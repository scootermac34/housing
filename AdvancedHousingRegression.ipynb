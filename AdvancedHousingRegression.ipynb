{
 "cells": [
  {
   "cell_type": "code",
   "execution_count": 1,
   "id": "bf062a4f",
   "metadata": {
    "execution": {
     "iopub.execute_input": "2024-07-09T12:58:38.323896Z",
     "iopub.status.busy": "2024-07-09T12:58:38.323349Z",
     "iopub.status.idle": "2024-07-09T12:58:39.295771Z",
     "shell.execute_reply": "2024-07-09T12:58:39.294516Z"
    },
    "papermill": {
     "duration": 0.981628,
     "end_time": "2024-07-09T12:58:39.298642",
     "exception": false,
     "start_time": "2024-07-09T12:58:38.317014",
     "status": "completed"
    },
    "tags": []
   },
   "outputs": [
    {
     "name": "stdout",
     "output_type": "stream",
     "text": [
      "/kaggle/input/house-prices-advanced-regression-techniques/sample_submission.csv\n",
      "/kaggle/input/house-prices-advanced-regression-techniques/data_description.txt\n",
      "/kaggle/input/house-prices-advanced-regression-techniques/train.csv\n",
      "/kaggle/input/house-prices-advanced-regression-techniques/test.csv\n"
     ]
    }
   ],
   "source": [
    "# This Python 3 environment comes with many helpful analytics libraries installed\n",
    "# It is defined by the kaggle/python Docker image: https://github.com/kaggle/docker-python\n",
    "# For example, here's several helpful packages to load\n",
    "\n",
    "import numpy as np # linear algebra\n",
    "import pandas as pd # data processing, CSV file I/O (e.g. pd.read_csv)\n",
    "\n",
    "# Input data files are available in the read-only \"../input/\" directory\n",
    "# For example, running this (by clicking run or pressing Shift+Enter) will list all files under the input directory\n",
    "\n",
    "import os\n",
    "for dirname, _, filenames in os.walk('/kaggle/input'):\n",
    "    for filename in filenames:\n",
    "        print(os.path.join(dirname, filename))\n",
    "\n",
    "# You can write up to 20GB to the current directory (/kaggle/working/) that gets preserved as output when you create a version using \"Save & Run All\" \n",
    "# You can also write temporary files to /kaggle/temp/, but they won't be saved outside of the current session"
   ]
  },
  {
   "cell_type": "markdown",
   "id": "2e680e60",
   "metadata": {
    "papermill": {
     "duration": 0.003624,
     "end_time": "2024-07-09T12:58:39.306533",
     "exception": false,
     "start_time": "2024-07-09T12:58:39.302909",
     "status": "completed"
    },
    "tags": []
   },
   "source": [
    "### Project"
   ]
  },
  {
   "cell_type": "markdown",
   "id": "b80cc63a",
   "metadata": {
    "papermill": {
     "duration": 0.003433,
     "end_time": "2024-07-09T12:58:39.313870",
     "exception": false,
     "start_time": "2024-07-09T12:58:39.310437",
     "status": "completed"
    },
    "tags": []
   },
   "source": [
    "### Summary"
   ]
  },
  {
   "cell_type": "markdown",
   "id": "54541a60",
   "metadata": {
    "papermill": {
     "duration": 0.003436,
     "end_time": "2024-07-09T12:58:39.320956",
     "exception": false,
     "start_time": "2024-07-09T12:58:39.317520",
     "status": "completed"
    },
    "tags": []
   },
   "source": []
  },
  {
   "cell_type": "markdown",
   "id": "4b53e042",
   "metadata": {
    "papermill": {
     "duration": 0.003404,
     "end_time": "2024-07-09T12:58:39.328007",
     "exception": false,
     "start_time": "2024-07-09T12:58:39.324603",
     "status": "completed"
    },
    "tags": []
   },
   "source": [
    "### Package List"
   ]
  },
  {
   "cell_type": "code",
   "execution_count": 2,
   "id": "d35b3882",
   "metadata": {
    "execution": {
     "iopub.execute_input": "2024-07-09T12:58:39.337448Z",
     "iopub.status.busy": "2024-07-09T12:58:39.336590Z",
     "iopub.status.idle": "2024-07-09T12:58:39.341442Z",
     "shell.execute_reply": "2024-07-09T12:58:39.340428Z"
    },
    "papermill": {
     "duration": 0.012318,
     "end_time": "2024-07-09T12:58:39.343927",
     "exception": false,
     "start_time": "2024-07-09T12:58:39.331609",
     "status": "completed"
    },
    "tags": []
   },
   "outputs": [],
   "source": [
    "#import pkg_resources\n",
    "#installed_packages = pkg_resources.working_set\n",
    "#installed_packages_list = sorted([\"%s==%s\" % (i.key, i.version) for i in installed_packages])\n",
    "#installed_packages_list"
   ]
  },
  {
   "cell_type": "markdown",
   "id": "70d71ab0",
   "metadata": {
    "papermill": {
     "duration": 0.003494,
     "end_time": "2024-07-09T12:58:39.351345",
     "exception": false,
     "start_time": "2024-07-09T12:58:39.347851",
     "status": "completed"
    },
    "tags": []
   },
   "source": [
    "### Load Data"
   ]
  },
  {
   "cell_type": "code",
   "execution_count": 3,
   "id": "1ac4132c",
   "metadata": {
    "execution": {
     "iopub.execute_input": "2024-07-09T12:58:39.361024Z",
     "iopub.status.busy": "2024-07-09T12:58:39.360099Z",
     "iopub.status.idle": "2024-07-09T12:58:39.440110Z",
     "shell.execute_reply": "2024-07-09T12:58:39.438932Z"
    },
    "papermill": {
     "duration": 0.08792,
     "end_time": "2024-07-09T12:58:39.442961",
     "exception": false,
     "start_time": "2024-07-09T12:58:39.355041",
     "status": "completed"
    },
    "tags": []
   },
   "outputs": [],
   "source": [
    "df_train = pd.read_csv(\"/kaggle/input/house-prices-advanced-regression-techniques/train.csv\")\n",
    "df_test = pd.read_csv(\"/kaggle/input/house-prices-advanced-regression-techniques/test.csv\")"
   ]
  },
  {
   "cell_type": "markdown",
   "id": "3854623c",
   "metadata": {
    "papermill": {
     "duration": 0.00354,
     "end_time": "2024-07-09T12:58:39.450744",
     "exception": false,
     "start_time": "2024-07-09T12:58:39.447204",
     "status": "completed"
    },
    "tags": []
   },
   "source": [
    "#### Create Functions for EDA"
   ]
  },
  {
   "cell_type": "code",
   "execution_count": 4,
   "id": "15d524ad",
   "metadata": {
    "execution": {
     "iopub.execute_input": "2024-07-09T12:58:39.460565Z",
     "iopub.status.busy": "2024-07-09T12:58:39.459548Z",
     "iopub.status.idle": "2024-07-09T12:58:39.475245Z",
     "shell.execute_reply": "2024-07-09T12:58:39.474105Z"
    },
    "papermill": {
     "duration": 0.02336,
     "end_time": "2024-07-09T12:58:39.477865",
     "exception": false,
     "start_time": "2024-07-09T12:58:39.454505",
     "status": "completed"
    },
    "tags": []
   },
   "outputs": [],
   "source": [
    "# Univariate Analysis\n",
    "def univariate_eda(data, target, var) -> dict:\n",
    "    if data[var].dtype == 'object':\n",
    "        data[var] = np.where(data[var].isna(), \"NaN\", data[var])\n",
    "        train = data.loc[data['TRAIN_INDEX'] == 1]\n",
    "        test = data.loc[data['TRAIN_INDEX'] == 0]\n",
    "        train_grp = train[[var,target]].groupby(var).agg(['count','mean'])\n",
    "        test_grp = test[[var,target]].groupby(var).agg(['count','mean'])\n",
    "        grp = pd.merge(train_grp, test_grp, how='outer', left_index=True, right_index=True)\n",
    "        grp.columns = ['count_train', 'severity_train', 'count_test', 'severity_test']\n",
    "        print(grp)\n",
    "        \n",
    "        count_max = max([max(grp['count_train']),max(grp['count_test'])])\n",
    "        sev_max = max([max(grp['severity_train']).max(grp['severity_test'])])\n",
    "        \n",
    "        df_count = grp[['count_train', 'count_test']].copy()\n",
    "        df_sev = grp[['severity_train', 'severity_test']].copy()\n",
    "        \n",
    "        x = np.arrange(len(df_count.index))\n",
    "        width = 0.3\n",
    "        multiplier = 0 \n",
    "        \n",
    "        fig, ax1 = plt.subplots(constrained_layout=True)\n",
    "        \n",
    "        for attribute, measurement in df_count.items():\n",
    "            offset = width + multiplier\n",
    "            rects = ax1.bar(x + offset, measurement, width, label=attribute)\n",
    "            multiplier += 1\n",
    "            \n",
    "        ax1.set_title('numerical: ' + var)\n",
    "        \n",
    "        ax1.set_ylabel('Counts')\n",
    "        ax1.set_xticks(x)\n",
    "        ax1.set_xticklabels(df_count.index, rotation=90)\n",
    "        ax1.legend(loc='upper left')\n",
    "        \n",
    "        ax2 = ax1.twinx()\n",
    "        ax2.set_ylabel('Severity')\n",
    "        ax2.plot(df_sev.index, df_sev['severity_train'], c='blue', label='severity_train')\n",
    "        ax2.plot(df_sev.index, df_sev['severity_test'], c='darkorange', label='severity_test')\n",
    "        "
   ]
  }
 ],
 "metadata": {
  "kaggle": {
   "accelerator": "none",
   "dataSources": [
    {
     "databundleVersionId": 868283,
     "sourceId": 5407,
     "sourceType": "competition"
    }
   ],
   "dockerImageVersionId": 30732,
   "isGpuEnabled": false,
   "isInternetEnabled": false,
   "language": "python",
   "sourceType": "notebook"
  },
  "kernelspec": {
   "display_name": "Python 3",
   "language": "python",
   "name": "python3"
  },
  "language_info": {
   "codemirror_mode": {
    "name": "ipython",
    "version": 3
   },
   "file_extension": ".py",
   "mimetype": "text/x-python",
   "name": "python",
   "nbconvert_exporter": "python",
   "pygments_lexer": "ipython3",
   "version": "3.10.13"
  },
  "papermill": {
   "default_parameters": {},
   "duration": 4.654954,
   "end_time": "2024-07-09T12:58:39.903172",
   "environment_variables": {},
   "exception": null,
   "input_path": "__notebook__.ipynb",
   "output_path": "__notebook__.ipynb",
   "parameters": {},
   "start_time": "2024-07-09T12:58:35.248218",
   "version": "2.5.0"
  }
 },
 "nbformat": 4,
 "nbformat_minor": 5
}
